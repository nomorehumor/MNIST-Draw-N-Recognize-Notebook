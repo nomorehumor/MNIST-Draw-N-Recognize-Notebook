{
 "cells": [
  {
   "cell_type": "code",
   "execution_count": 72,
   "metadata": {},
   "outputs": [],
   "source": [
    "import tensorflow as tf\n",
    "\n",
    "mnist = tf.keras.datasets.mnist\n",
    "\n",
    "(x_train, y_train), (x_test, y_test) = mnist.load_data()\n",
    "x_train, x_test = x_train / 255.0, x_test / 255.0"
   ]
  },
  {
   "cell_type": "code",
   "execution_count": 73,
   "metadata": {},
   "outputs": [],
   "source": [
    "model = tf.keras.Sequential([tf.keras.layers.Flatten(),\n",
    "                             tf.keras.layers.Dense(1024, activation='relu'),\n",
    "                             tf.keras.layers.Dense(10, activation='softmax')])\n",
    "\n",
    "model.compile(optimizer='adam',\n",
    "              loss='sparse_categorical_crossentropy',\n",
    "              metrics=['accuracy'])"
   ]
  },
  {
   "cell_type": "code",
   "execution_count": 74,
   "metadata": {
    "scrolled": true
   },
   "outputs": [
    {
     "name": "stdout",
     "output_type": "stream",
     "text": [
      "Epoch 1/5\n",
      "1875/1875 [==============================] - 10s 5ms/step - loss: 0.1855 - accuracy: 0.9441\n",
      "Epoch 2/5\n",
      "1875/1875 [==============================] - 11s 6ms/step - loss: 0.0754 - accuracy: 0.9770\n",
      "Epoch 3/5\n",
      "1875/1875 [==============================] - 11s 6ms/step - loss: 0.0489 - accuracy: 0.9840\n",
      "Epoch 4/5\n",
      "1875/1875 [==============================] - 10s 5ms/step - loss: 0.0351 - accuracy: 0.9889\n",
      "Epoch 5/5\n",
      "1875/1875 [==============================] - 9s 5ms/step - loss: 0.0244 - accuracy: 0.9918\n"
     ]
    },
    {
     "data": {
      "text/plain": [
       "<tensorflow.python.keras.callbacks.History at 0x14098cb90>"
      ]
     },
     "execution_count": 74,
     "metadata": {},
     "output_type": "execute_result"
    }
   ],
   "source": [
    "model.fit(x_train, y_train, metrics=['accuracy'], epochs=5)"
   ]
  },
  {
   "cell_type": "code",
   "execution_count": 70,
   "metadata": {
    "scrolled": true
   },
   "outputs": [
    {
     "name": "stdout",
     "output_type": "stream",
     "text": [
      "313/313 - 1s\n"
     ]
    },
    {
     "data": {
      "text/plain": [
       "[0.07531416416168213, 0.9800999760627747]"
      ]
     },
     "execution_count": 70,
     "metadata": {},
     "output_type": "execute_result"
    }
   ],
   "source": [
    "model.evaluate(x_test,  y_test, verbose=2)"
   ]
  },
  {
   "cell_type": "code",
   "execution_count": 195,
   "metadata": {},
   "outputs": [],
   "source": [
    "from ipycanvas import Canvas, hold_canvas\n",
    "import ipywidgets as widgets\n",
    "from ipywidgets import TwoByTwoLayout\n",
    "from math import pi"
   ]
  },
  {
   "cell_type": "code",
   "execution_count": 95,
   "metadata": {},
   "outputs": [],
   "source": [
    "canvas = Canvas(width=280,height=280, sync_image_data=True)"
   ]
  },
  {
   "cell_type": "code",
   "execution_count": 165,
   "metadata": {
    "scrolled": true
   },
   "outputs": [],
   "source": [
    "started_drawing = False\n",
    "\n",
    "def on_mouse_down(x, y):\n",
    "    global started_drawing\n",
    "    started_drawing = True\n",
    "canvas.on_mouse_down(on_mouse_down)\n",
    "\n",
    "def on_mouse_move(x, y):\n",
    "    global started_drawing\n",
    "    if started_drawing:\n",
    "        with hold_canvas(canvas):\n",
    "            canvas.fill_arc(x,y,10,0,2*pi)\n",
    "    else:\n",
    "        return\n",
    "        \n",
    "def on_mouse_up(x, y):\n",
    "    global started_drawing\n",
    "    started_drawing = False\n",
    "    \n",
    "canvas.on_mouse_down(on_mouse_down)\n",
    "canvas.on_mouse_move(on_mouse_move)\n",
    "canvas.on_mouse_up(on_mouse_up)"
   ]
  },
  {
   "cell_type": "code",
   "execution_count": 185,
   "metadata": {},
   "outputs": [],
   "source": [
    "button = widgets.Button(description='Clear')\n",
    "\n",
    "def button_clicked(_):\n",
    "    canvas.clear()\n",
    "    \n",
    "button.on_click(button_clicked)"
   ]
  },
  {
   "cell_type": "code",
   "execution_count": 226,
   "metadata": {},
   "outputs": [],
   "source": [
    "import numpy as np\n",
    "import matplotlib.pyplot as plt\n",
    "\n",
    "def get_canvas_image():\n",
    "    canvas_rgb = canvas.get_image_data()\n",
    "    canvas_gray = canvas_rgb[...,3]\n",
    "    canvas_gray_reduced = canvas_gray[::10,::10]\n",
    "    return canvas_gray_reduced\n",
    "    \n",
    "def predict_number(*args):\n",
    "    #plt.subplot(1, 2, 1)\n",
    "    #plt.clf()\n",
    "    canvas_image = get_canvas_image()\n",
    "    prediction = model.predict(np.array([canvas_image,]))\n",
    "    print(prediction)\n",
    "    #labels = [0,1,2,3,4,5,6,7,8,9]\n",
    "    #plt.subplot(1, 2, 1)\n",
    "    #plt.bar(labels, height=prediction[0])\n",
    "    #plt.xticks(labels,labels);\n",
    "    #plt.subplot(1, 2, 2)\n",
    "    #plt.imshow(canvas_image)\n",
    "    print(f\"Predicted number: {np.argmax(prediction)} \")"
   ]
  },
  {
   "cell_type": "code",
   "execution_count": 227,
   "metadata": {},
   "outputs": [
    {
     "data": {
      "application/vnd.jupyter.widget-view+json": {
       "model_id": "27cb9e3095bf45d6a6aadce0ba5ec540",
       "version_major": 2,
       "version_minor": 0
      },
      "text/plain": [
       "TwoByTwoLayout(children=(Canvas(height=280, image_data=b'\\x89PNG\\r\\n\\x1a\\n\\x00\\x00\\x00\\rIHDR\\x00\\x00\\x01\\x18\\x…"
      ]
     },
     "metadata": {},
     "output_type": "display_data"
    },
    {
     "name": "stdout",
     "output_type": "stream",
     "text": [
      "[[0. 1. 0. 0. 0. 0. 0. 0. 0. 0.]]\n",
      "Predicted number: 1 \n",
      "[[1. 0. 0. 0. 0. 0. 0. 0. 0. 0.]]\n",
      "Predicted number: 0 \n",
      "[[0.0000000e+00 0.0000000e+00 0.0000000e+00 0.0000000e+00 0.0000000e+00 2.3003166e-21 0.0000000e+00 0.0000000e+00 0.0000000e+00 1.0000000e+00]]\n",
      "Predicted number: 9 \n"
     ]
    }
   ],
   "source": [
    "predict_button = widgets.Button(\n",
    "    description='Predict',\n",
    "    disabled=False,\n",
    "    button_style='info', # 'success', 'info', 'warning', 'danger' or ''\n",
    "    tooltip='Click me',\n",
    ")\n",
    "predict_button.on_click(predict_number)\n",
    "TwoByTwoLayout(top_left=canvas, top_right=button, bottom_right=predict_button)"
   ]
  },
  {
   "cell_type": "code",
   "execution_count": null,
   "metadata": {},
   "outputs": [],
   "source": []
  }
 ],
 "metadata": {
  "kernelspec": {
   "display_name": "Python 3",
   "language": "python",
   "name": "python3"
  },
  "language_info": {
   "codemirror_mode": {
    "name": "ipython",
    "version": 3
   },
   "file_extension": ".py",
   "mimetype": "text/x-python",
   "name": "python",
   "nbconvert_exporter": "python",
   "pygments_lexer": "ipython3",
   "version": "3.7.6"
  }
 },
 "nbformat": 4,
 "nbformat_minor": 4
}
