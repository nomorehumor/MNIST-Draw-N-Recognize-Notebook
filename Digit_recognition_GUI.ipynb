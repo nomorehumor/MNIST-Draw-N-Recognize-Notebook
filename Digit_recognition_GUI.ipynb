{
 "cells": [
  {
   "cell_type": "code",
   "execution_count": 9,
   "metadata": {},
   "outputs": [],
   "source": [
    "import tensorflow as tf\n",
    "model = tf.keras.models.load_model('digit_model')"
   ]
  },
  {
   "cell_type": "code",
   "execution_count": 10,
   "metadata": {},
   "outputs": [],
   "source": [
    "from ipycanvas import Canvas, hold_canvas\n",
    "import ipywidgets as widgeats\n",
    "from ipywidgets import TwoByTwoLayout\n",
    "from math import pi"
   ]
  },
  {
   "cell_type": "code",
   "execution_count": 11,
   "metadata": {},
   "outputs": [],
   "source": [
    "canvas = Canvas(width=280,height=280, sync_image_data=True)"
   ]
  },
  {
   "cell_type": "code",
   "execution_count": 12,
   "metadata": {
    "scrolled": true
   },
   "outputs": [],
   "source": [
    "started_drawing = False\n",
    "\n",
    "def on_mouse_down(x, y):\n",
    "    global started_drawing\n",
    "    started_drawing = True\n",
    "canvas.on_mouse_down(on_mouse_down)\n",
    "\n",
    "def on_mouse_move(x, y):\n",
    "    global started_drawing\n",
    "    if started_drawing:\n",
    "        with hold_canvas(canvas):\n",
    "            canvas.fill_arc(x,y,10,0,2*pi)\n",
    "    else:\n",
    "        return\n",
    "        \n",
    "def on_mouse_up(x, y):\n",
    "    global started_drawing\n",
    "    started_drawing = False\n",
    "    \n",
    "canvas.on_mouse_down(on_mouse_down)\n",
    "canvas.on_mouse_move(on_mouse_move)\n",
    "canvas.on_mouse_up(on_mouse_up)"
   ]
  },
  {
   "cell_type": "code",
   "execution_count": 13,
   "metadata": {},
   "outputs": [],
   "source": [
    "button = widgets.Button(description='Clear')\n",
    "\n",
    "def button_clicked(_):\n",
    "    canvas.clear()\n",
    "    \n",
    "button.on_click(button_clicked)"
   ]
  },
  {
   "cell_type": "code",
   "execution_count": 14,
   "metadata": {},
   "outputs": [],
   "source": [
    "import numpy as np\n",
    "import matplotlib.pyplot as plt\n",
    "\n",
    "def get_canvas_image():\n",
    "    canvas_rgb = canvas.get_image_data()\n",
    "    canvas_gray = canvas_rgb[...,3]\n",
    "    canvas_gray_reduced = canvas_gray[::10,::10]\n",
    "    return canvas_gray_reduced\n",
    "    \n",
    "def predict_number(*args):\n",
    "    #plt.subplot(1, 2, 1)\n",
    "    #plt.clf()\n",
    "    canvas_image = get_canvas_image()\n",
    "    prediction = model.predict(np.array([canvas_image,]))\n",
    "    print(prediction)\n",
    "    #labels = [0,1,2,3,4,5,6,7,8,9]\n",
    "    #plt.subplot(1, 2, 1)\n",
    "    #plt.bar(labels, height=prediction[0])\n",
    "    #plt.xticks(labels,labels);\n",
    "    #plt.subplot(1, 2, 2)\n",
    "    #plt.imshow(canvas_image)\n",
    "    print(f\"Predicted number: {np.argmax(prediction)} \")"
   ]
  },
  {
   "cell_type": "code",
   "execution_count": 15,
   "metadata": {},
   "outputs": [
    {
     "data": {
      "application/vnd.jupyter.widget-view+json": {
       "model_id": "c77c962210b841b390852941c23f7e33",
       "version_major": 2,
       "version_minor": 0
      },
      "text/plain": [
       "TwoByTwoLayout(children=(Canvas(height=280, layout=Layout(grid_area='top-left'), sync_image_data=True, width=2…"
      ]
     },
     "metadata": {},
     "output_type": "display_data"
    },
    {
     "name": "stdout",
     "output_type": "stream",
     "text": [
      "[[0. 0. 0. 1. 0. 0. 0. 0. 0. 0.]]\n",
      "Predicted number: 3 \n",
      "[[0. 1. 0. 0. 0. 0. 0. 0. 0. 0.]]\n",
      "Predicted number: 1 \n",
      "[[0. 0. 0. 0. 0. 0. 0. 0. 1. 0.]]\n",
      "Predicted number: 8 \n",
      "[[1. 0. 0. 0. 0. 0. 0. 0. 0. 0.]]\n",
      "Predicted number: 0 \n",
      "[[0. 0. 1. 0. 0. 0. 0. 0. 0. 0.]]\n",
      "Predicted number: 2 \n"
     ]
    }
   ],
   "source": [
    "predict_button = widgets.Button(\n",
    "    description='Predict',\n",
    "    disabled=False,\n",
    "    button_style='info', # 'success', 'info', 'warning', 'danger' or ''\n",
    "    tooltip='Click me',\n",
    ")\n",
    "predict_button.on_click(predict_number)\n",
    "TwoByTwoLayout(top_left=canvas, top_right=button, bottom_right=predict_button)"
   ]
  },
  {
   "cell_type": "code",
   "execution_count": null,
   "metadata": {},
   "outputs": [],
   "source": []
  }
 ],
 "metadata": {
  "kernelspec": {
   "display_name": "Python 3",
   "language": "python",
   "name": "python3"
  },
  "language_info": {
   "codemirror_mode": {
    "name": "ipython",
    "version": 3
   },
   "file_extension": ".py",
   "mimetype": "text/x-python",
   "name": "python",
   "nbconvert_exporter": "python",
   "pygments_lexer": "ipython3",
   "version": "3.7.6"
  }
 },
 "nbformat": 4,
 "nbformat_minor": 4
}
