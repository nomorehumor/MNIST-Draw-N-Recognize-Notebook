{
 "cells": [
  {
   "cell_type": "code",
   "execution_count": 2,
   "metadata": {},
   "outputs": [],
   "source": [
    "from ipycanvas import Canvas, hold_canvas\n",
    "import ipywidgets as widgeats\n",
    "from ipywidgets import TwoByTwoLayout\n",
    "from math import pi"
   ]
  },
  {
   "cell_type": "code",
   "execution_count": 3,
   "metadata": {},
   "outputs": [],
   "source": [
    "canvas = Canvas(width=280,height=280, sync_image_data=True)"
   ]
  },
  {
   "cell_type": "code",
   "execution_count": 4,
   "metadata": {
    "scrolled": true
   },
   "outputs": [],
   "source": [
    "started_drawing = False\n",
    "\n",
    "def on_mouse_down(x, y):\n",
    "    global started_drawing\n",
    "    started_drawing = True\n",
    "canvas.on_mouse_down(on_mouse_down)\n",
    "\n",
    "def on_mouse_move(x, y):\n",
    "    global started_drawing\n",
    "    if started_drawing:\n",
    "        with hold_canvas(canvas):\n",
    "            canvas.fill_arc(x,y,10,0,2*pi)\n",
    "    else:\n",
    "        return\n",
    "        \n",
    "def on_mouse_up(x, y):\n",
    "    global started_drawing\n",
    "    started_drawing = False\n",
    "    \n",
    "canvas.on_mouse_down(on_mouse_down)\n",
    "canvas.on_mouse_move(on_mouse_move)\n",
    "canvas.on_mouse_up(on_mouse_up)"
   ]
  },
  {
   "cell_type": "code",
   "execution_count": 5,
   "metadata": {},
   "outputs": [],
   "source": [
    "button = widgets.Button(description='Clear')\n",
    "\n",
    "def button_clicked(_):\n",
    "    canvas.clear()\n",
    "    \n",
    "button.on_click(button_clicked)"
   ]
  },
  {
   "cell_type": "code",
   "execution_count": 6,
   "metadata": {},
   "outputs": [],
   "source": [
    "import numpy as np\n",
    "import matplotlib.pyplot as plt\n",
    "\n",
    "def get_canvas_image():\n",
    "    canvas_rgb = canvas.get_image_data()\n",
    "    canvas_gray = canvas_rgb[...,3]\n",
    "    canvas_gray_reduced = canvas_gray[::10,::10]\n",
    "    return canvas_gray_reduced\n",
    "    \n",
    "def predict_number(*args):\n",
    "    #plt.subplot(1, 2, 1)\n",
    "    #plt.clf()\n",
    "    canvas_image = get_canvas_image()\n",
    "    prediction = model.predict(np.array([canvas_image,]))\n",
    "    print(prediction)\n",
    "    #labels = [0,1,2,3,4,5,6,7,8,9]\n",
    "    #plt.subplot(1, 2, 1)\n",
    "    #plt.bar(labels, height=prediction[0])\n",
    "    #plt.xticks(labels,labels);\n",
    "    #plt.subplot(1, 2, 2)\n",
    "    #plt.imshow(canvas_image)\n",
    "    print(f\"Predicted number: {np.argmax(prediction)} \")"
   ]
  },
  {
   "cell_type": "code",
   "execution_count": 7,
   "metadata": {},
   "outputs": [
    {
     "data": {
      "application/vnd.jupyter.widget-view+json": {
       "model_id": "2f3ba9e5d750474f9c0fbdd249dd7cd6",
       "version_major": 2,
       "version_minor": 0
      },
      "text/plain": [
       "TwoByTwoLayout(children=(Canvas(height=280, layout=Layout(grid_area='top-left'), sync_image_data=True, width=2…"
      ]
     },
     "metadata": {},
     "output_type": "display_data"
    },
    {
     "ename": "NameError",
     "evalue": "name 'model' is not defined",
     "output_type": "error",
     "traceback": [
      "\u001b[0;31m---------------------------------------------------------------------------\u001b[0m",
      "\u001b[0;31mNameError\u001b[0m                                 Traceback (most recent call last)",
      "\u001b[0;32m<ipython-input-6-0e0bb8c0f093>\u001b[0m in \u001b[0;36mpredict_number\u001b[0;34m(*args)\u001b[0m\n\u001b[1;32m     12\u001b[0m     \u001b[0;31m#plt.clf()\u001b[0m\u001b[0;34m\u001b[0m\u001b[0;34m\u001b[0m\u001b[0;34m\u001b[0m\u001b[0m\n\u001b[1;32m     13\u001b[0m     \u001b[0mcanvas_image\u001b[0m \u001b[0;34m=\u001b[0m \u001b[0mget_canvas_image\u001b[0m\u001b[0;34m(\u001b[0m\u001b[0;34m)\u001b[0m\u001b[0;34m\u001b[0m\u001b[0;34m\u001b[0m\u001b[0m\n\u001b[0;32m---> 14\u001b[0;31m     \u001b[0mprediction\u001b[0m \u001b[0;34m=\u001b[0m \u001b[0mmodel\u001b[0m\u001b[0;34m.\u001b[0m\u001b[0mpredict\u001b[0m\u001b[0;34m(\u001b[0m\u001b[0mnp\u001b[0m\u001b[0;34m.\u001b[0m\u001b[0marray\u001b[0m\u001b[0;34m(\u001b[0m\u001b[0;34m[\u001b[0m\u001b[0mcanvas_image\u001b[0m\u001b[0;34m,\u001b[0m\u001b[0;34m]\u001b[0m\u001b[0;34m)\u001b[0m\u001b[0;34m)\u001b[0m\u001b[0;34m\u001b[0m\u001b[0;34m\u001b[0m\u001b[0m\n\u001b[0m\u001b[1;32m     15\u001b[0m     \u001b[0mprint\u001b[0m\u001b[0;34m(\u001b[0m\u001b[0mprediction\u001b[0m\u001b[0;34m)\u001b[0m\u001b[0;34m\u001b[0m\u001b[0;34m\u001b[0m\u001b[0m\n\u001b[1;32m     16\u001b[0m     \u001b[0;31m#labels = [0,1,2,3,4,5,6,7,8,9]\u001b[0m\u001b[0;34m\u001b[0m\u001b[0;34m\u001b[0m\u001b[0;34m\u001b[0m\u001b[0m\n",
      "\u001b[0;31mNameError\u001b[0m: name 'model' is not defined"
     ]
    }
   ],
   "source": [
    "predict_button = widgets.Button(\n",
    "    description='Predict',\n",
    "    disabled=False,\n",
    "    button_style='info', # 'success', 'info', 'warning', 'danger' or ''\n",
    "    tooltip='Click me',\n",
    ")\n",
    "predict_button.on_click(predict_number)\n",
    "TwoByTwoLayout(top_left=canvas, top_right=button, bottom_right=predict_button)"
   ]
  },
  {
   "cell_type": "code",
   "execution_count": null,
   "metadata": {},
   "outputs": [],
   "source": []
  }
 ],
 "metadata": {
  "kernelspec": {
   "display_name": "Python 3",
   "language": "python",
   "name": "python3"
  },
  "language_info": {
   "codemirror_mode": {
    "name": "ipython",
    "version": 3
   },
   "file_extension": ".py",
   "mimetype": "text/x-python",
   "name": "python",
   "nbconvert_exporter": "python",
   "pygments_lexer": "ipython3",
   "version": "3.7.6"
  }
 },
 "nbformat": 4,
 "nbformat_minor": 4
}
